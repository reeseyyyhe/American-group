{
 "cells": [
  {
   "cell_type": "code",
   "execution_count": 7,
   "metadata": {},
   "outputs": [],
   "source": [
    "import rltk"
   ]
  },
  {
   "cell_type": "code",
   "execution_count": 63,
   "metadata": {},
   "outputs": [],
   "source": [
    "class Record1(rltk.Record):\n",
    "   @property\n",
    "   def id(self):\n",
    "      return self.raw_object['histid']\n",
    "\n",
    "   @property\n",
    "   def value(self):\n",
    "      return self.raw_object['namelast']\n",
    "   \n",
    "   def firstname(self):\n",
    "      return self.raw_object['namefrst']\n",
    "   \n",
    "   def age(self):\n",
    "      return self.raw_object['age']\n",
    "   \n",
    "   def birthplace(self):\n",
    "      return self.raw_object['bpl']\n",
    "   \n",
    "\n",
    "\n",
    "class Record2(rltk.Record):\n",
    "   @rltk.cached_property\n",
    "   def id(self):\n",
    "      return self.raw_object['histid']\n",
    "\n",
    "   @rltk.cached_property\n",
    "   def value(self):\n",
    "      return self.raw_object['namelast']\n",
    "   \n",
    "   def firstname(self):\n",
    "      return self.raw_object['namefrst']\n",
    "\n",
    "   def age(self):\n",
    "      return self.raw_object['age'] \n",
    "\n",
    "   def birthplace(self):\n",
    "      return self.raw_object['bpl']  \n",
    "\n",
    "      # v = self.raw_object.get('values', list())\n",
    "      # return v[0] if len(v) > 0 else 'empty'"
   ]
  },
  {
   "cell_type": "code",
   "execution_count": 64,
   "metadata": {},
   "outputs": [],
   "source": [
    "ds1 = rltk.Dataset(reader=rltk.CSVReader('C:/Columbia_University/Research/History_African_American_Migration_Pattern/US_MLP_datasets/1880 from 1880-1900 experiment.csv'),\n",
    "                     record_class=Record1, adapter=rltk.MemoryKeyValueAdapter())"
   ]
  },
  {
   "cell_type": "code",
   "execution_count": 65,
   "metadata": {},
   "outputs": [],
   "source": [
    "ds2 = rltk.Dataset(reader=rltk.CSVReader('C:/Columbia_University/Research/History_African_American_Migration_Pattern/US_MLP_datasets/1900 from 1880-1900 experiment.csv'),\n",
    "                     record_class=Record2, adapter=rltk.MemoryKeyValueAdapter())"
   ]
  },
  {
   "cell_type": "code",
   "execution_count": 72,
   "metadata": {},
   "outputs": [],
   "source": [
    "pairs = rltk.get_record_pairs(ds1, ds2)"
   ]
  },
  {
   "cell_type": "code",
   "execution_count": 73,
   "metadata": {},
   "outputs": [
    {
     "name": "stdout",
     "output_type": "stream",
     "text": [
      "-------------\n",
      "d61c52ce-9753-4559-9235-b54ebdc44547 HENRY 2F10B1BD-E259-4843-8B16-5F9E7B67B4AD JONAS S\n",
      "levenshtein_distance: 6\n",
      "levenshtein_similarity: 0.1428571428571429\n",
      "-------------\n",
      "d61c52ce-9753-4559-9235-b54ebdc44547 HENRY 7F1FAACE-1662-4653-AB78-78C905E094C2 BOB\n",
      "levenshtein_distance: 5\n",
      "levenshtein_similarity: 0.0\n",
      "-------------\n",
      "d61c52ce-9753-4559-9235-b54ebdc44547 HENRY 9B918B62-1FA5-41F9-B517-76A85667BD41 NED\n",
      "levenshtein_distance: 4\n",
      "levenshtein_similarity: 0.19999999999999996\n",
      "-------------\n",
      "161e51f4-f31f-4a8a-9a54-5f1627acefef CHARLES J. 2F10B1BD-E259-4843-8B16-5F9E7B67B4AD JONAS S\n",
      "levenshtein_distance: 8\n",
      "levenshtein_similarity: 0.19999999999999996\n",
      "-------------\n",
      "161e51f4-f31f-4a8a-9a54-5f1627acefef CHARLES J. 7F1FAACE-1662-4653-AB78-78C905E094C2 BOB\n",
      "levenshtein_distance: 10\n",
      "levenshtein_similarity: 0.0\n",
      "-------------\n",
      "161e51f4-f31f-4a8a-9a54-5f1627acefef CHARLES J. 9B918B62-1FA5-41F9-B517-76A85667BD41 NED\n",
      "levenshtein_distance: 9\n",
      "levenshtein_similarity: 0.09999999999999998\n",
      "-------------\n",
      "b3f9906c-e396-4435-90c0-72e9c1f43177 DANIEL 2F10B1BD-E259-4843-8B16-5F9E7B67B4AD JONAS S\n",
      "levenshtein_distance: 6\n",
      "levenshtein_similarity: 0.1428571428571429\n",
      "-------------\n",
      "b3f9906c-e396-4435-90c0-72e9c1f43177 DANIEL 7F1FAACE-1662-4653-AB78-78C905E094C2 BOB\n",
      "levenshtein_distance: 6\n",
      "levenshtein_similarity: 0.0\n",
      "-------------\n",
      "b3f9906c-e396-4435-90c0-72e9c1f43177 DANIEL 9B918B62-1FA5-41F9-B517-76A85667BD41 NED\n",
      "levenshtein_distance: 4\n",
      "levenshtein_similarity: 0.33333333333333337\n",
      "-------------\n",
      "7ee3ec94-fb88-4978-b7d5-8150e0163f0a ARTHUR 2F10B1BD-E259-4843-8B16-5F9E7B67B4AD JONAS S\n",
      "levenshtein_distance: 7\n",
      "levenshtein_similarity: 0.0\n",
      "-------------\n",
      "7ee3ec94-fb88-4978-b7d5-8150e0163f0a ARTHUR 7F1FAACE-1662-4653-AB78-78C905E094C2 BOB\n",
      "levenshtein_distance: 6\n",
      "levenshtein_similarity: 0.0\n",
      "-------------\n",
      "7ee3ec94-fb88-4978-b7d5-8150e0163f0a ARTHUR 9B918B62-1FA5-41F9-B517-76A85667BD41 NED\n",
      "levenshtein_distance: 6\n",
      "levenshtein_similarity: 0.0\n",
      "-------------\n",
      "7899c3f7-c939-4cfe-9734-39e3951469c5 EMILE P. 2F10B1BD-E259-4843-8B16-5F9E7B67B4AD JONAS S\n",
      "levenshtein_distance: 7\n",
      "levenshtein_similarity: 0.125\n",
      "-------------\n",
      "7899c3f7-c939-4cfe-9734-39e3951469c5 EMILE P. 7F1FAACE-1662-4653-AB78-78C905E094C2 BOB\n",
      "levenshtein_distance: 8\n",
      "levenshtein_similarity: 0.0\n",
      "-------------\n",
      "7899c3f7-c939-4cfe-9734-39e3951469c5 EMILE P. 9B918B62-1FA5-41F9-B517-76A85667BD41 NED\n",
      "levenshtein_distance: 7\n",
      "levenshtein_similarity: 0.125\n"
     ]
    }
   ],
   "source": [
    "iteration = 0\n",
    "for r1, r2 in pairs:\n",
    "    iteration += 1\n",
    "    print('-------------')\n",
    "    print(r1.id, r1.firstname(), r2.id, r2.firstname())\n",
    "    print('levenshtein_distance:', rltk.levenshtein_distance(r1.firstname(), r2.firstname()))\n",
    "    print('levenshtein_similarity:', rltk.levenshtein_similarity(r1.firstname(), r2.firstname()))\n"
   ]
  },
  {
   "cell_type": "code",
   "execution_count": 67,
   "metadata": {},
   "outputs": [
    {
     "name": "stdout",
     "output_type": "stream",
     "text": [
      "Canada\n",
      "<class 'str'>\n",
      "Canada\n",
      "<class 'str'>\n",
      "Canada\n",
      "<class 'str'>\n",
      "Missouri\n",
      "<class 'str'>\n",
      "Missouri\n",
      "<class 'str'>\n",
      "Missouri\n",
      "<class 'str'>\n",
      "Canada\n",
      "<class 'str'>\n",
      "Canada\n",
      "<class 'str'>\n",
      "Canada\n",
      "<class 'str'>\n",
      "Canada\n",
      "<class 'str'>\n",
      "Canada\n",
      "<class 'str'>\n",
      "Canada\n",
      "<class 'str'>\n",
      "Argentina\n",
      "<class 'str'>\n",
      "Argentina\n",
      "<class 'str'>\n",
      "Argentina\n",
      "<class 'str'>\n"
     ]
    }
   ],
   "source": [
    "for r1, r2 in pairs:\n",
    "    print(r1.birthplace())\n",
    "    print(type(r1.birthplace()))"
   ]
  },
  {
   "cell_type": "code",
   "execution_count": 1,
   "metadata": {},
   "outputs": [],
   "source": [
    "import pandas as pd\n",
    "\n",
    "ds1 = pd.read_csv('C:/Columbia_University/Research/History_African_American_Migration_Pattern/US_MLP_datasets/1880 from 1880-1900 experiment.csv')\n",
    "ds2 = pd.read_csv('C:/Columbia_University/Research/History_African_American_Migration_Pattern/US_MLP_datasets/1900 from 1880-1900 experiment.csv')"
   ]
  },
  {
   "cell_type": "code",
   "execution_count": 2,
   "metadata": {},
   "outputs": [],
   "source": [
    "ds1[\"matching_id\"] = None\n",
    "ds2[\"matching_id\"] = None"
   ]
  },
  {
   "cell_type": "code",
   "execution_count": 4,
   "metadata": {},
   "outputs": [
    {
     "name": "stdout",
     "output_type": "stream",
     "text": [
      "0\n",
      "1\n",
      "2\n",
      "3\n",
      "4\n"
     ]
    }
   ],
   "source": [
    "for index1, row1 in ds1.iterrows():\n",
    "    print(index1)"
   ]
  },
  {
   "cell_type": "code",
   "execution_count": 8,
   "metadata": {},
   "outputs": [],
   "source": [
    "def create_dataframe(dataset1, dataset2):\n",
    "\n",
    "    df = {index1: [] for index1, row1 in dataset1.iterrows()}\n",
    "    \n",
    "\n",
    "    for index1, row1 in dataset1.iterrows():\n",
    "        score_list = []\n",
    "        \n",
    "        \n",
    "        histid1 = row1['histid']\n",
    "        firstname1 = row1['namefrst']\n",
    "        lastname1 = row1['namelast']\n",
    "        birthplace1 = row1['bpl']\n",
    "\n",
    "        for index2, row2 in dataset2.iterrows():\n",
    "\n",
    "            histid2 = row2['histid']\n",
    "            firstname2 = row2['namefrst']\n",
    "            lastname2 = row2['namelast']\n",
    "            birthplace2 = row2['bpl']  \n",
    "\n",
    "            histid_score =  rltk.levenshtein_similarity(histid1, histid2)*0.4\n",
    "            firstname_score = rltk.levenshtein_similarity(firstname1, firstname2)*0.2\n",
    "            lastname_score = rltk.levenshtein_similarity(lastname1, lastname2)*0.2\n",
    "\n",
    "            if birthplace1 == birthplace2:\n",
    "                birthplace_score = 1*0.2\n",
    "            else:\n",
    "                birthplace_score = 0*0.2\n",
    "\n",
    "            total_score = histid_score + firstname_score + lastname_score + birthplace_score\n",
    "            \n",
    "            score_list.append(total_score)\n",
    "\n",
    "        df[index1].extend(score_list)\n",
    "\n",
    "    return pd.DataFrame(df)\n"
   ]
  },
  {
   "cell_type": "code",
   "execution_count": 15,
   "metadata": {},
   "outputs": [
    {
     "data": {
      "text/html": [
       "<div>\n",
       "<style scoped>\n",
       "    .dataframe tbody tr th:only-of-type {\n",
       "        vertical-align: middle;\n",
       "    }\n",
       "\n",
       "    .dataframe tbody tr th {\n",
       "        vertical-align: top;\n",
       "    }\n",
       "\n",
       "    .dataframe thead th {\n",
       "        text-align: right;\n",
       "    }\n",
       "</style>\n",
       "<table border=\"1\" class=\"dataframe\">\n",
       "  <thead>\n",
       "    <tr style=\"text-align: right;\">\n",
       "      <th></th>\n",
       "      <th>0</th>\n",
       "      <th>1</th>\n",
       "      <th>2</th>\n",
       "      <th>3</th>\n",
       "      <th>4</th>\n",
       "    </tr>\n",
       "  </thead>\n",
       "  <tbody>\n",
       "    <tr>\n",
       "      <th>0</th>\n",
       "      <td>0.117460</td>\n",
       "      <td>0.168889</td>\n",
       "      <td>0.095238</td>\n",
       "      <td>0.055556</td>\n",
       "      <td>0.125000</td>\n",
       "    </tr>\n",
       "    <tr>\n",
       "      <th>1</th>\n",
       "      <td>0.077778</td>\n",
       "      <td>0.066667</td>\n",
       "      <td>0.197778</td>\n",
       "      <td>0.077778</td>\n",
       "      <td>0.111111</td>\n",
       "    </tr>\n",
       "    <tr>\n",
       "      <th>2</th>\n",
       "      <td>0.184444</td>\n",
       "      <td>0.120000</td>\n",
       "      <td>0.188889</td>\n",
       "      <td>0.077778</td>\n",
       "      <td>0.158333</td>\n",
       "    </tr>\n",
       "  </tbody>\n",
       "</table>\n",
       "</div>"
      ],
      "text/plain": [
       "          0         1         2         3         4\n",
       "0  0.117460  0.168889  0.095238  0.055556  0.125000\n",
       "1  0.077778  0.066667  0.197778  0.077778  0.111111\n",
       "2  0.184444  0.120000  0.188889  0.077778  0.158333"
      ]
     },
     "execution_count": 15,
     "metadata": {},
     "output_type": "execute_result"
    }
   ],
   "source": [
    "score_df = create_dataframe(ds1, ds2)\n",
    "create_dataframe(ds1, ds2)\n"
   ]
  },
  {
   "cell_type": "code",
   "execution_count": 11,
   "metadata": {},
   "outputs": [],
   "source": [
    "# dictionary to control to which record in ds2 each record in ds1 can match\n",
    "ds2_record_available = {index: [i for i in range(ds2.shape[0])] for index, row in ds1.iterrows()}\n",
    "\n",
    "# waiting list\n",
    "waiting_list = []\n",
    "\n",
    "# dictionary to store created pairs\n",
    "pairs = {}\n",
    "\n",
    "# variables to count the number of iterations\n",
    "count = 0"
   ]
  },
  {
   "cell_type": "code",
   "execution_count": 13,
   "metadata": {},
   "outputs": [
    {
     "data": {
      "text/plain": [
       "{0: [0, 1, 2], 1: [0, 1, 2], 2: [0, 1, 2], 3: [0, 1, 2], 4: [0, 1, 2]}"
      ]
     },
     "execution_count": 13,
     "metadata": {},
     "output_type": "execute_result"
    }
   ],
   "source": [
    "ds2_record_available"
   ]
  },
  {
   "cell_type": "code",
   "execution_count": 14,
   "metadata": {},
   "outputs": [
    {
     "data": {
      "text/plain": [
       "5"
      ]
     },
     "execution_count": 14,
     "metadata": {},
     "output_type": "execute_result"
    }
   ],
   "source": [
    "len(ds1)"
   ]
  },
  {
   "cell_type": "code",
   "execution_count": null,
   "metadata": {},
   "outputs": [],
   "source": [
    "# while not all record in ds1 has matches\n",
    "while len(waiting_list) < len(ds1):\n",
    "\n",
    "    # look for matchs\n",
    "    for index1 in range(len(ds1)):\n",
    "\n",
    "        if index1 not in waiting_list:\n",
    "            # each ds1 record tries to find match in ds2 with the highest score\n",
    "            index2_available = ds2_record_available[index1]\n",
    "            best_choice = score_df"
   ]
  },
  {
   "cell_type": "code",
   "execution_count": 18,
   "metadata": {},
   "outputs": [
    {
     "data": {
      "text/plain": [
       "0.11746031746031747"
      ]
     },
     "execution_count": 18,
     "metadata": {},
     "output_type": "execute_result"
    }
   ],
   "source": [
    "score_df.iloc[0, 0]"
   ]
  },
  {
   "cell_type": "code",
   "execution_count": null,
   "metadata": {},
   "outputs": [],
   "source": [
    "def Gale_Shapley():\n",
    "    "
   ]
  },
  {
   "cell_type": "code",
   "execution_count": 19,
   "metadata": {},
   "outputs": [],
   "source": [
    "# Dictionary to store unique matching IDs\n",
    "matching_ids = {}\n",
    "next_id = 1\n",
    "\n",
    "# Iterate through the lists to identify matching pairs and assign matching IDs\n",
    "for idxA, idxB in zip(l1, l2):\n",
    "    # Check if matching IDs are already assigned\n",
    "    if ds1.loc[idxA, 'matching_id'] is not None:\n",
    "        matching_id = ds1.loc[idxA, 'matching_id']\n",
    "    elif ds2.loc[idxB, 'matching_id'] is not None:\n",
    "        matching_id = ds2.loc[idxB, 'matching_id']\n",
    "    else:\n",
    "        # Generate a new matching ID\n",
    "        matching_id = next_id\n",
    "        matching_ids[(idxA, idxB)] = matching_id\n",
    "        next_id += 1\n",
    "    \n",
    "    # Update matching ID for dataframe 1\n",
    "    ds1.at[idxA, 'matching_id'] = matching_id\n",
    "    \n",
    "    # Update matching ID for dataframe 2\n",
    "    ds2.at[idxB, 'matching_id'] = matching_id"
   ]
  },
  {
   "cell_type": "code",
   "execution_count": 20,
   "metadata": {},
   "outputs": [
    {
     "data": {
      "text/html": [
       "<div>\n",
       "<style scoped>\n",
       "    .dataframe tbody tr th:only-of-type {\n",
       "        vertical-align: middle;\n",
       "    }\n",
       "\n",
       "    .dataframe tbody tr th {\n",
       "        vertical-align: top;\n",
       "    }\n",
       "\n",
       "    .dataframe thead th {\n",
       "        text-align: right;\n",
       "    }\n",
       "</style>\n",
       "<table border=\"1\" class=\"dataframe\">\n",
       "  <thead>\n",
       "    <tr style=\"text-align: right;\">\n",
       "      <th></th>\n",
       "      <th>year</th>\n",
       "      <th>serial</th>\n",
       "      <th>stateicp</th>\n",
       "      <th>city</th>\n",
       "      <th>countynhg</th>\n",
       "      <th>yrstcounty</th>\n",
       "      <th>stcounty</th>\n",
       "      <th>countyicp</th>\n",
       "      <th>famsize</th>\n",
       "      <th>eldch</th>\n",
       "      <th>...</th>\n",
       "      <th>sex</th>\n",
       "      <th>race</th>\n",
       "      <th>bpl</th>\n",
       "      <th>occ1950</th>\n",
       "      <th>namelast</th>\n",
       "      <th>namefrst</th>\n",
       "      <th>bplstr</th>\n",
       "      <th>histid</th>\n",
       "      <th>pid</th>\n",
       "      <th>matching_id</th>\n",
       "    </tr>\n",
       "  </thead>\n",
       "  <tbody>\n",
       "    <tr>\n",
       "      <th>0</th>\n",
       "      <td>1880</td>\n",
       "      <td>383439</td>\n",
       "      <td>Arkansas</td>\n",
       "      <td>BIG ROCK</td>\n",
       "      <td>501190</td>\n",
       "      <td>1880421190</td>\n",
       "      <td>51190</td>\n",
       "      <td>1190</td>\n",
       "      <td>6 family members present</td>\n",
       "      <td>15.0</td>\n",
       "      <td>...</td>\n",
       "      <td>Male</td>\n",
       "      <td>Mulatto</td>\n",
       "      <td>Canada</td>\n",
       "      <td>Carpenters</td>\n",
       "      <td>WALLACE</td>\n",
       "      <td>HENRY</td>\n",
       "      <td>CANADA</td>\n",
       "      <td>d61c52ce-9753-4559-9235-b54ebdc44547</td>\n",
       "      <td>01254054-2-0264-0806-$</td>\n",
       "      <td>1</td>\n",
       "    </tr>\n",
       "    <tr>\n",
       "      <th>1</th>\n",
       "      <td>1880</td>\n",
       "      <td>426308</td>\n",
       "      <td>California</td>\n",
       "      <td>OAKLAND</td>\n",
       "      <td>600010</td>\n",
       "      <td>1880710010</td>\n",
       "      <td>60010</td>\n",
       "      <td>10</td>\n",
       "      <td>8 family members present</td>\n",
       "      <td>9.0</td>\n",
       "      <td>...</td>\n",
       "      <td>Male</td>\n",
       "      <td>Mulatto</td>\n",
       "      <td>Missouri</td>\n",
       "      <td>Painters, construction and maintenance</td>\n",
       "      <td>KYER</td>\n",
       "      <td>CHARLES J.</td>\n",
       "      <td>MO</td>\n",
       "      <td>161e51f4-f31f-4a8a-9a54-5f1627acefef</td>\n",
       "      <td>01254061-1-0136-1756-$</td>\n",
       "      <td>2</td>\n",
       "    </tr>\n",
       "    <tr>\n",
       "      <th>2</th>\n",
       "      <td>1880</td>\n",
       "      <td>475226</td>\n",
       "      <td>California</td>\n",
       "      <td>SAN RAFAEL</td>\n",
       "      <td>600410</td>\n",
       "      <td>1880710410</td>\n",
       "      <td>60410</td>\n",
       "      <td>410</td>\n",
       "      <td>3 family members present</td>\n",
       "      <td>NaN</td>\n",
       "      <td>...</td>\n",
       "      <td>Male</td>\n",
       "      <td>Black/African American/Negro</td>\n",
       "      <td>Canada</td>\n",
       "      <td>Taxicab drivers and chauffers</td>\n",
       "      <td>BROM</td>\n",
       "      <td>DANIEL</td>\n",
       "      <td>CAN</td>\n",
       "      <td>b3f9906c-e396-4435-90c0-72e9c1f43177</td>\n",
       "      <td>01254068-1-0080-0959-$</td>\n",
       "      <td>3</td>\n",
       "    </tr>\n",
       "    <tr>\n",
       "      <th>3</th>\n",
       "      <td>1880</td>\n",
       "      <td>475252</td>\n",
       "      <td>California</td>\n",
       "      <td>SAN RAFAEL</td>\n",
       "      <td>600410</td>\n",
       "      <td>1880710410</td>\n",
       "      <td>60410</td>\n",
       "      <td>410</td>\n",
       "      <td>7 family members present</td>\n",
       "      <td>14.0</td>\n",
       "      <td>...</td>\n",
       "      <td>Male</td>\n",
       "      <td>Black/African American/Negro</td>\n",
       "      <td>Canada</td>\n",
       "      <td>Farm laborers, wage workers</td>\n",
       "      <td>TALBOT</td>\n",
       "      <td>ARTHUR</td>\n",
       "      <td>CAN</td>\n",
       "      <td>7ee3ec94-fb88-4978-b7d5-8150e0163f0a</td>\n",
       "      <td>01254068-1-0081-1092-$</td>\n",
       "      <td>3</td>\n",
       "    </tr>\n",
       "    <tr>\n",
       "      <th>4</th>\n",
       "      <td>1880</td>\n",
       "      <td>519735</td>\n",
       "      <td>California</td>\n",
       "      <td>SAN FRANCISCO</td>\n",
       "      <td>600750</td>\n",
       "      <td>1880710750</td>\n",
       "      <td>60750</td>\n",
       "      <td>750</td>\n",
       "      <td>4 family members present</td>\n",
       "      <td>18.0</td>\n",
       "      <td>...</td>\n",
       "      <td>Female</td>\n",
       "      <td>White</td>\n",
       "      <td>Argentina</td>\n",
       "      <td>Keeps house/housekeeping at home/housewife</td>\n",
       "      <td>BAYLEY</td>\n",
       "      <td>EMILE P.</td>\n",
       "      <td>BUENOS AYRES</td>\n",
       "      <td>7899c3f7-c939-4cfe-9734-39e3951469c5</td>\n",
       "      <td>01254073-1-0246-4060-$</td>\n",
       "      <td>1</td>\n",
       "    </tr>\n",
       "  </tbody>\n",
       "</table>\n",
       "<p>5 rows × 22 columns</p>\n",
       "</div>"
      ],
      "text/plain": [
       "   year  serial    stateicp           city  countynhg  yrstcounty  stcounty  \\\n",
       "0  1880  383439    Arkansas       BIG ROCK     501190  1880421190     51190   \n",
       "1  1880  426308  California        OAKLAND     600010  1880710010     60010   \n",
       "2  1880  475226  California     SAN RAFAEL     600410  1880710410     60410   \n",
       "3  1880  475252  California     SAN RAFAEL     600410  1880710410     60410   \n",
       "4  1880  519735  California  SAN FRANCISCO     600750  1880710750     60750   \n",
       "\n",
       "   countyicp                   famsize  eldch  ...     sex  \\\n",
       "0       1190  6 family members present   15.0  ...    Male   \n",
       "1         10  8 family members present    9.0  ...    Male   \n",
       "2        410  3 family members present    NaN  ...    Male   \n",
       "3        410  7 family members present   14.0  ...    Male   \n",
       "4        750  4 family members present   18.0  ...  Female   \n",
       "\n",
       "                           race        bpl  \\\n",
       "0                       Mulatto     Canada   \n",
       "1                       Mulatto   Missouri   \n",
       "2  Black/African American/Negro     Canada   \n",
       "3  Black/African American/Negro     Canada   \n",
       "4                         White  Argentina   \n",
       "\n",
       "                                      occ1950 namelast    namefrst  \\\n",
       "0                                  Carpenters  WALLACE       HENRY   \n",
       "1      Painters, construction and maintenance     KYER  CHARLES J.   \n",
       "2               Taxicab drivers and chauffers     BROM      DANIEL   \n",
       "3                 Farm laborers, wage workers   TALBOT      ARTHUR   \n",
       "4  Keeps house/housekeeping at home/housewife   BAYLEY    EMILE P.   \n",
       "\n",
       "         bplstr                                histid                     pid  \\\n",
       "0        CANADA  d61c52ce-9753-4559-9235-b54ebdc44547  01254054-2-0264-0806-$   \n",
       "1            MO  161e51f4-f31f-4a8a-9a54-5f1627acefef  01254061-1-0136-1756-$   \n",
       "2           CAN  b3f9906c-e396-4435-90c0-72e9c1f43177  01254068-1-0080-0959-$   \n",
       "3           CAN  7ee3ec94-fb88-4978-b7d5-8150e0163f0a  01254068-1-0081-1092-$   \n",
       "4  BUENOS AYRES  7899c3f7-c939-4cfe-9734-39e3951469c5  01254073-1-0246-4060-$   \n",
       "\n",
       "  matching_id  \n",
       "0           1  \n",
       "1           2  \n",
       "2           3  \n",
       "3           3  \n",
       "4           1  \n",
       "\n",
       "[5 rows x 22 columns]"
      ]
     },
     "execution_count": 20,
     "metadata": {},
     "output_type": "execute_result"
    }
   ],
   "source": [
    "ds1"
   ]
  },
  {
   "cell_type": "code",
   "execution_count": 21,
   "metadata": {},
   "outputs": [
    {
     "data": {
      "text/html": [
       "<div>\n",
       "<style scoped>\n",
       "    .dataframe tbody tr th:only-of-type {\n",
       "        vertical-align: middle;\n",
       "    }\n",
       "\n",
       "    .dataframe tbody tr th {\n",
       "        vertical-align: top;\n",
       "    }\n",
       "\n",
       "    .dataframe thead th {\n",
       "        text-align: right;\n",
       "    }\n",
       "</style>\n",
       "<table border=\"1\" class=\"dataframe\">\n",
       "  <thead>\n",
       "    <tr style=\"text-align: right;\">\n",
       "      <th></th>\n",
       "      <th>year</th>\n",
       "      <th>serial</th>\n",
       "      <th>stateicp</th>\n",
       "      <th>city</th>\n",
       "      <th>stcounty</th>\n",
       "      <th>countyicp</th>\n",
       "      <th>famsize</th>\n",
       "      <th>eldch</th>\n",
       "      <th>yngch</th>\n",
       "      <th>age</th>\n",
       "      <th>sex</th>\n",
       "      <th>race</th>\n",
       "      <th>bpl</th>\n",
       "      <th>occ1950</th>\n",
       "      <th>namelast</th>\n",
       "      <th>namefrst</th>\n",
       "      <th>bplstr</th>\n",
       "      <th>histid</th>\n",
       "      <th>pid</th>\n",
       "      <th>matching_id</th>\n",
       "    </tr>\n",
       "  </thead>\n",
       "  <tbody>\n",
       "    <tr>\n",
       "      <th>0</th>\n",
       "      <td>1900</td>\n",
       "      <td>110663</td>\n",
       "      <td>Alabama</td>\n",
       "      <td>PRECINCT 36, SELMA</td>\n",
       "      <td>10470</td>\n",
       "      <td>470</td>\n",
       "      <td>4 family members present</td>\n",
       "      <td>NaN</td>\n",
       "      <td>NaN</td>\n",
       "      <td>30</td>\n",
       "      <td>Male</td>\n",
       "      <td>Black/African American/Negro</td>\n",
       "      <td>Texas</td>\n",
       "      <td>Teachers (n.e.c.)</td>\n",
       "      <td>MOTEN</td>\n",
       "      <td>JONAS S</td>\n",
       "      <td>TEXAS</td>\n",
       "      <td>2F10B1BD-E259-4843-8B16-5F9E7B67B4AD</td>\n",
       "      <td>4119981_00297</td>\n",
       "      <td>2</td>\n",
       "    </tr>\n",
       "    <tr>\n",
       "      <th>1</th>\n",
       "      <td>1900</td>\n",
       "      <td>140747</td>\n",
       "      <td>Alabama</td>\n",
       "      <td>PRECINCT 3, TISHABEE</td>\n",
       "      <td>10630</td>\n",
       "      <td>630</td>\n",
       "      <td>2 family members present</td>\n",
       "      <td>NaN</td>\n",
       "      <td>NaN</td>\n",
       "      <td>45</td>\n",
       "      <td>Male</td>\n",
       "      <td>Black/African American/Negro</td>\n",
       "      <td>Alabama</td>\n",
       "      <td>Farmers (owners and tenants)</td>\n",
       "      <td>BROWN</td>\n",
       "      <td>BOB</td>\n",
       "      <td>ALABAMA</td>\n",
       "      <td>7F1FAACE-1662-4653-AB78-78C905E094C2</td>\n",
       "      <td>4119984_00570</td>\n",
       "      <td>3</td>\n",
       "    </tr>\n",
       "    <tr>\n",
       "      <th>2</th>\n",
       "      <td>1900</td>\n",
       "      <td>223762</td>\n",
       "      <td>Alabama</td>\n",
       "      <td>PRECINCT 10, FORT DEPOSIT</td>\n",
       "      <td>10850</td>\n",
       "      <td>850</td>\n",
       "      <td>12 family members present</td>\n",
       "      <td>19.0</td>\n",
       "      <td>3.0</td>\n",
       "      <td>49</td>\n",
       "      <td>Male</td>\n",
       "      <td>Black/African American/Negro</td>\n",
       "      <td>Alabama</td>\n",
       "      <td>Farmers (owners and tenants)</td>\n",
       "      <td>BARGANIER</td>\n",
       "      <td>NED</td>\n",
       "      <td>ALABAMA</td>\n",
       "      <td>9B918B62-1FA5-41F9-B517-76A85667BD41</td>\n",
       "      <td>4119997_00022</td>\n",
       "      <td>1</td>\n",
       "    </tr>\n",
       "  </tbody>\n",
       "</table>\n",
       "</div>"
      ],
      "text/plain": [
       "   year  serial stateicp                       city  stcounty  countyicp  \\\n",
       "0  1900  110663  Alabama         PRECINCT 36, SELMA     10470        470   \n",
       "1  1900  140747  Alabama       PRECINCT 3, TISHABEE     10630        630   \n",
       "2  1900  223762  Alabama  PRECINCT 10, FORT DEPOSIT     10850        850   \n",
       "\n",
       "                     famsize  eldch  yngch  age   sex  \\\n",
       "0   4 family members present    NaN    NaN   30  Male   \n",
       "1   2 family members present    NaN    NaN   45  Male   \n",
       "2  12 family members present   19.0    3.0   49  Male   \n",
       "\n",
       "                           race      bpl                       occ1950  \\\n",
       "0  Black/African American/Negro    Texas             Teachers (n.e.c.)   \n",
       "1  Black/African American/Negro  Alabama  Farmers (owners and tenants)   \n",
       "2  Black/African American/Negro  Alabama  Farmers (owners and tenants)   \n",
       "\n",
       "    namelast namefrst   bplstr                                histid  \\\n",
       "0      MOTEN  JONAS S    TEXAS  2F10B1BD-E259-4843-8B16-5F9E7B67B4AD   \n",
       "1      BROWN      BOB  ALABAMA  7F1FAACE-1662-4653-AB78-78C905E094C2   \n",
       "2  BARGANIER      NED  ALABAMA  9B918B62-1FA5-41F9-B517-76A85667BD41   \n",
       "\n",
       "             pid matching_id  \n",
       "0  4119981_00297           2  \n",
       "1  4119984_00570           3  \n",
       "2  4119997_00022           1  "
      ]
     },
     "execution_count": 21,
     "metadata": {},
     "output_type": "execute_result"
    }
   ],
   "source": [
    "ds2"
   ]
  },
  {
   "cell_type": "code",
   "execution_count": 95,
   "metadata": {},
   "outputs": [
    {
     "name": "stdout",
     "output_type": "stream",
     "text": [
      "0\n",
      "HENRY WALLACE\n",
      "1\n",
      "CHARLES J. KYER\n",
      "2\n",
      "DANIEL BROM\n",
      "3\n",
      "ARTHUR TALBOT\n",
      "4\n",
      "EMILE P. BAYLEY\n"
     ]
    }
   ],
   "source": [
    "for index, row in ds1.iterrows():\n",
    "    print(index)\n",
    "    print(row['namefrst'], row['namelast'])"
   ]
  },
  {
   "cell_type": "code",
   "execution_count": 16,
   "metadata": {},
   "outputs": [
    {
     "data": {
      "text/plain": [
       "True"
      ]
     },
     "execution_count": 16,
     "metadata": {},
     "output_type": "execute_result"
    }
   ],
   "source": [
    "ds1.loc[0, 'matching_id'] == None"
   ]
  },
  {
   "cell_type": "code",
   "execution_count": 17,
   "metadata": {},
   "outputs": [
    {
     "data": {
      "text/plain": [
       "(5, 22)"
      ]
     },
     "execution_count": 17,
     "metadata": {},
     "output_type": "execute_result"
    }
   ],
   "source": [
    "ds1.shape"
   ]
  },
  {
   "cell_type": "code",
   "execution_count": 18,
   "metadata": {},
   "outputs": [
    {
     "data": {
      "text/plain": [
       "(3, 20)"
      ]
     },
     "execution_count": 18,
     "metadata": {},
     "output_type": "execute_result"
    }
   ],
   "source": [
    "ds2.shape"
   ]
  },
  {
   "cell_type": "code",
   "execution_count": null,
   "metadata": {},
   "outputs": [],
   "source": []
  }
 ],
 "metadata": {
  "kernelspec": {
   "display_name": "Python 3",
   "language": "python",
   "name": "python3"
  },
  "language_info": {
   "codemirror_mode": {
    "name": "ipython",
    "version": 3
   },
   "file_extension": ".py",
   "mimetype": "text/x-python",
   "name": "python",
   "nbconvert_exporter": "python",
   "pygments_lexer": "ipython3",
   "version": "3.11.8"
  }
 },
 "nbformat": 4,
 "nbformat_minor": 2
}
