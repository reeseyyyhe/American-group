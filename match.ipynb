{
 "cells": [
  {
   "cell_type": "markdown",
   "metadata": {},
   "source": [
    "## Record Matching Algorithms\n",
    "\n",
    "* We will display one possible approach to match records using the existing rltk algorithm and Gale Shapley matching algorithm in this file (unfinished yet)"
   ]
  },
  {
   "cell_type": "code",
   "execution_count": 7,
   "metadata": {},
   "outputs": [],
   "source": [
    "import rltk\n",
    "import pandas as pd"
   ]
  },
  {
   "cell_type": "code",
   "execution_count": 1,
   "metadata": {},
   "outputs": [],
   "source": [
    "\n",
    "ds1 = pd.read_csv('C:/Columbia_University/Research/History_African_American_Migration_Pattern/US_MLP_datasets/1880 from 1880-1900 experiment.csv')\n",
    "ds2 = pd.read_csv('C:/Columbia_University/Research/History_African_American_Migration_Pattern/US_MLP_datasets/1900 from 1880-1900 experiment.csv')"
   ]
  },
  {
   "cell_type": "code",
   "execution_count": 2,
   "metadata": {},
   "outputs": [],
   "source": [
    "ds1[\"matching_id\"] = None\n",
    "ds2[\"matching_id\"] = None"
   ]
  },
  {
   "cell_type": "code",
   "execution_count": 8,
   "metadata": {},
   "outputs": [],
   "source": [
    "def create_dataframe(dataset1, dataset2):\n",
    "\n",
    "    df = {index1: [] for index1, row1 in dataset1.iterrows()}\n",
    "    \n",
    "\n",
    "    for index1, row1 in dataset1.iterrows():\n",
    "        score_list = []\n",
    "        \n",
    "        \n",
    "        histid1 = row1['histid']\n",
    "        firstname1 = row1['namefrst']\n",
    "        lastname1 = row1['namelast']\n",
    "        birthplace1 = row1['bpl']\n",
    "\n",
    "        for index2, row2 in dataset2.iterrows():\n",
    "\n",
    "            histid2 = row2['histid']\n",
    "            firstname2 = row2['namefrst']\n",
    "            lastname2 = row2['namelast']\n",
    "            birthplace2 = row2['bpl']  \n",
    "\n",
    "            histid_score =  rltk.levenshtein_similarity(histid1, histid2)*0.4\n",
    "            firstname_score = rltk.levenshtein_similarity(firstname1, firstname2)*0.2\n",
    "            lastname_score = rltk.levenshtein_similarity(lastname1, lastname2)*0.2\n",
    "\n",
    "            if birthplace1 == birthplace2:\n",
    "                birthplace_score = 1*0.2\n",
    "            else:\n",
    "                birthplace_score = 0*0.2\n",
    "\n",
    "            total_score = histid_score + firstname_score + lastname_score + birthplace_score\n",
    "            \n",
    "            score_list.append(total_score)\n",
    "\n",
    "        df[index1].extend(score_list)\n",
    "\n",
    "    return pd.DataFrame(df)\n"
   ]
  },
  {
   "cell_type": "markdown",
   "metadata": {},
   "source": [
    "#### Using the rltk algorithm to help us create a matrix showing a linkage score between any pair of records in two datasets. Higher the score, the more likely the two records become a match. "
   ]
  },
  {
   "cell_type": "code",
   "execution_count": 15,
   "metadata": {},
   "outputs": [
    {
     "data": {
      "text/html": [
       "<div>\n",
       "<style scoped>\n",
       "    .dataframe tbody tr th:only-of-type {\n",
       "        vertical-align: middle;\n",
       "    }\n",
       "\n",
       "    .dataframe tbody tr th {\n",
       "        vertical-align: top;\n",
       "    }\n",
       "\n",
       "    .dataframe thead th {\n",
       "        text-align: right;\n",
       "    }\n",
       "</style>\n",
       "<table border=\"1\" class=\"dataframe\">\n",
       "  <thead>\n",
       "    <tr style=\"text-align: right;\">\n",
       "      <th></th>\n",
       "      <th>0</th>\n",
       "      <th>1</th>\n",
       "      <th>2</th>\n",
       "      <th>3</th>\n",
       "      <th>4</th>\n",
       "    </tr>\n",
       "  </thead>\n",
       "  <tbody>\n",
       "    <tr>\n",
       "      <th>0</th>\n",
       "      <td>0.117460</td>\n",
       "      <td>0.168889</td>\n",
       "      <td>0.095238</td>\n",
       "      <td>0.055556</td>\n",
       "      <td>0.125000</td>\n",
       "    </tr>\n",
       "    <tr>\n",
       "      <th>1</th>\n",
       "      <td>0.077778</td>\n",
       "      <td>0.066667</td>\n",
       "      <td>0.197778</td>\n",
       "      <td>0.077778</td>\n",
       "      <td>0.111111</td>\n",
       "    </tr>\n",
       "    <tr>\n",
       "      <th>2</th>\n",
       "      <td>0.184444</td>\n",
       "      <td>0.120000</td>\n",
       "      <td>0.188889</td>\n",
       "      <td>0.077778</td>\n",
       "      <td>0.158333</td>\n",
       "    </tr>\n",
       "  </tbody>\n",
       "</table>\n",
       "</div>"
      ],
      "text/plain": [
       "          0         1         2         3         4\n",
       "0  0.117460  0.168889  0.095238  0.055556  0.125000\n",
       "1  0.077778  0.066667  0.197778  0.077778  0.111111\n",
       "2  0.184444  0.120000  0.188889  0.077778  0.158333"
      ]
     },
     "execution_count": 15,
     "metadata": {},
     "output_type": "execute_result"
    }
   ],
   "source": [
    "score_df = create_dataframe(ds1, ds2)\n",
    "create_dataframe(ds1, ds2)\n"
   ]
  },
  {
   "cell_type": "markdown",
   "metadata": {},
   "source": [
    "#### We will include Gale Shapley algorithm below"
   ]
  },
  {
   "cell_type": "code",
   "execution_count": null,
   "metadata": {},
   "outputs": [],
   "source": []
  }
 ],
 "metadata": {
  "kernelspec": {
   "display_name": "Python 3",
   "language": "python",
   "name": "python3"
  },
  "language_info": {
   "codemirror_mode": {
    "name": "ipython",
    "version": 3
   },
   "file_extension": ".py",
   "mimetype": "text/x-python",
   "name": "python",
   "nbconvert_exporter": "python",
   "pygments_lexer": "ipython3",
   "version": "3.11.8"
  }
 },
 "nbformat": 4,
 "nbformat_minor": 2
}
