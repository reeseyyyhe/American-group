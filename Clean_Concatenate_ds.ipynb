{
 "cells": [
  {
   "cell_type": "code",
   "execution_count": 1,
   "metadata": {},
   "outputs": [],
   "source": [
    "import pandas as pd\n",
    "import numpy as np\n",
    "import matplotlib.pyplot as plt\n",
    "import seaborn as sns\n",
    "\n",
    "sns.set_style('darkgrid')\n",
    "\n",
    "%matplotlib inline"
   ]
  },
  {
   "cell_type": "code",
   "execution_count": 2,
   "metadata": {},
   "outputs": [
    {
     "name": "stderr",
     "output_type": "stream",
     "text": [
      "C:\\Users\\57325\\AppData\\Local\\Temp\\ipykernel_3672\\1513702908.py:1: DtypeWarning: Columns (130,140,150,326,341,344,345,375,377,378,379,380,381,382) have mixed types. Specify dtype option on import or set low_memory=False.\n",
      "  df_1880 = pd.read_csv('C:/Columbia_University/Research/History_African_American_Migration_Pattern/US_MLP_datasets/1880_from_1880_1900.csv')\n"
     ]
    },
    {
     "data": {
      "text/html": [
       "<div>\n",
       "<style scoped>\n",
       "    .dataframe tbody tr th:only-of-type {\n",
       "        vertical-align: middle;\n",
       "    }\n",
       "\n",
       "    .dataframe tbody tr th {\n",
       "        vertical-align: top;\n",
       "    }\n",
       "\n",
       "    .dataframe thead th {\n",
       "        text-align: right;\n",
       "    }\n",
       "</style>\n",
       "<table border=\"1\" class=\"dataframe\">\n",
       "  <thead>\n",
       "    <tr style=\"text-align: right;\">\n",
       "      <th></th>\n",
       "      <th>Unnamed: 0.1</th>\n",
       "      <th>Unnamed: 0</th>\n",
       "      <th>rectype</th>\n",
       "      <th>year</th>\n",
       "      <th>sample</th>\n",
       "      <th>serial</th>\n",
       "      <th>numprec</th>\n",
       "      <th>subsamp</th>\n",
       "      <th>hhwtreg</th>\n",
       "      <th>dwsize</th>\n",
       "      <th>...</th>\n",
       "      <th>us1880e_1132</th>\n",
       "      <th>us1880e_1133</th>\n",
       "      <th>us1880e_1134</th>\n",
       "      <th>us1880e_1135</th>\n",
       "      <th>us1880e_1136</th>\n",
       "      <th>us1880e_1137</th>\n",
       "      <th>us1880e_1138</th>\n",
       "      <th>us1880e_1139</th>\n",
       "      <th>us1880e_1140</th>\n",
       "      <th>us1880e_1141</th>\n",
       "    </tr>\n",
       "  </thead>\n",
       "  <tbody>\n",
       "    <tr>\n",
       "      <th>0</th>\n",
       "      <td>21</td>\n",
       "      <td>22</td>\n",
       "      <td>H</td>\n",
       "      <td>1880</td>\n",
       "      <td>1880 100% database</td>\n",
       "      <td>383439</td>\n",
       "      <td>7</td>\n",
       "      <td>38</td>\n",
       "      <td>1</td>\n",
       "      <td>7</td>\n",
       "      <td>...</td>\n",
       "      <td>1</td>\n",
       "      <td>0</td>\n",
       "      <td>1</td>\n",
       "      <td>8226</td>\n",
       "      <td>1</td>\n",
       "      <td>6</td>\n",
       "      <td>0.43</td>\n",
       "      <td>0</td>\n",
       "      <td>0</td>\n",
       "      <td>0</td>\n",
       "    </tr>\n",
       "    <tr>\n",
       "      <th>1</th>\n",
       "      <td>27</td>\n",
       "      <td>28</td>\n",
       "      <td>H</td>\n",
       "      <td>1880</td>\n",
       "      <td>1880 100% database</td>\n",
       "      <td>426308</td>\n",
       "      <td>8</td>\n",
       "      <td>9</td>\n",
       "      <td>1</td>\n",
       "      <td>9999</td>\n",
       "      <td>...</td>\n",
       "      <td>1</td>\n",
       "      <td>0</td>\n",
       "      <td>0</td>\n",
       "      <td>4112</td>\n",
       "      <td>1</td>\n",
       "      <td>6</td>\n",
       "      <td>0.00</td>\n",
       "      <td>0</td>\n",
       "      <td>0</td>\n",
       "      <td>0</td>\n",
       "    </tr>\n",
       "    <tr>\n",
       "      <th>2</th>\n",
       "      <td>37</td>\n",
       "      <td>38</td>\n",
       "      <td>H</td>\n",
       "      <td>1880</td>\n",
       "      <td>1880 100% database</td>\n",
       "      <td>475226</td>\n",
       "      <td>3</td>\n",
       "      <td>14</td>\n",
       "      <td>1</td>\n",
       "      <td>9999</td>\n",
       "      <td>...</td>\n",
       "      <td>1</td>\n",
       "      <td>0</td>\n",
       "      <td>0</td>\n",
       "      <td>2673</td>\n",
       "      <td>1</td>\n",
       "      <td>2</td>\n",
       "      <td>0.57</td>\n",
       "      <td>0</td>\n",
       "      <td>0</td>\n",
       "      <td>0</td>\n",
       "    </tr>\n",
       "    <tr>\n",
       "      <th>3</th>\n",
       "      <td>38</td>\n",
       "      <td>39</td>\n",
       "      <td>H</td>\n",
       "      <td>1880</td>\n",
       "      <td>1880 100% database</td>\n",
       "      <td>475252</td>\n",
       "      <td>7</td>\n",
       "      <td>70</td>\n",
       "      <td>1</td>\n",
       "      <td>9999</td>\n",
       "      <td>...</td>\n",
       "      <td>1</td>\n",
       "      <td>0</td>\n",
       "      <td>0</td>\n",
       "      <td>2721</td>\n",
       "      <td>1</td>\n",
       "      <td>7</td>\n",
       "      <td>0.52</td>\n",
       "      <td>0</td>\n",
       "      <td>0</td>\n",
       "      <td>0</td>\n",
       "    </tr>\n",
       "    <tr>\n",
       "      <th>4</th>\n",
       "      <td>46</td>\n",
       "      <td>47</td>\n",
       "      <td>H</td>\n",
       "      <td>1880</td>\n",
       "      <td>1880 100% database</td>\n",
       "      <td>519735</td>\n",
       "      <td>5</td>\n",
       "      <td>17</td>\n",
       "      <td>1</td>\n",
       "      <td>9999</td>\n",
       "      <td>...</td>\n",
       "      <td>1</td>\n",
       "      <td>1</td>\n",
       "      <td>0</td>\n",
       "      <td>3180</td>\n",
       "      <td>1</td>\n",
       "      <td>1</td>\n",
       "      <td>0.43</td>\n",
       "      <td>0</td>\n",
       "      <td>0</td>\n",
       "      <td>0</td>\n",
       "    </tr>\n",
       "  </tbody>\n",
       "</table>\n",
       "<p>5 rows × 396 columns</p>\n",
       "</div>"
      ],
      "text/plain": [
       "   Unnamed: 0.1  Unnamed: 0 rectype  year              sample  serial  \\\n",
       "0            21          22       H  1880  1880 100% database  383439   \n",
       "1            27          28       H  1880  1880 100% database  426308   \n",
       "2            37          38       H  1880  1880 100% database  475226   \n",
       "3            38          39       H  1880  1880 100% database  475252   \n",
       "4            46          47       H  1880  1880 100% database  519735   \n",
       "\n",
       "   numprec subsamp  hhwtreg  dwsize  ... us1880e_1132 us1880e_1133  \\\n",
       "0        7      38        1       7  ...            1            0   \n",
       "1        8       9        1    9999  ...            1            0   \n",
       "2        3      14        1    9999  ...            1            0   \n",
       "3        7      70        1    9999  ...            1            0   \n",
       "4        5      17        1    9999  ...            1            1   \n",
       "\n",
       "  us1880e_1134 us1880e_1135 us1880e_1136 us1880e_1137 us1880e_1138  \\\n",
       "0            1         8226            1            6         0.43   \n",
       "1            0         4112            1            6         0.00   \n",
       "2            0         2673            1            2         0.57   \n",
       "3            0         2721            1            7         0.52   \n",
       "4            0         3180            1            1         0.43   \n",
       "\n",
       "  us1880e_1139  us1880e_1140 us1880e_1141  \n",
       "0            0             0            0  \n",
       "1            0             0            0  \n",
       "2            0             0            0  \n",
       "3            0             0            0  \n",
       "4            0             0            0  \n",
       "\n",
       "[5 rows x 396 columns]"
      ]
     },
     "execution_count": 2,
     "metadata": {},
     "output_type": "execute_result"
    }
   ],
   "source": [
    "\n",
    "df_1880 = pd.read_csv('C:/Columbia_University/Research/History_African_American_Migration_Pattern/US_MLP_datasets/1880_from_1880_1900.csv')\n",
    "df_1880.head()"
   ]
  },
  {
   "cell_type": "code",
   "execution_count": 3,
   "metadata": {},
   "outputs": [
    {
     "data": {
      "text/plain": [
       "(2248, 396)"
      ]
     },
     "execution_count": 3,
     "metadata": {},
     "output_type": "execute_result"
    }
   ],
   "source": [
    "df_1880.shape"
   ]
  },
  {
   "cell_type": "code",
   "execution_count": 4,
   "metadata": {},
   "outputs": [
    {
     "name": "stderr",
     "output_type": "stream",
     "text": [
      "C:\\Users\\57325\\AppData\\Local\\Temp\\ipykernel_3672\\3019635155.py:1: DtypeWarning: Columns (7,99,131,265,271,279,283,284,290) have mixed types. Specify dtype option on import or set low_memory=False.\n",
      "  df_1900 = pd.read_csv('C:/Columbia_University/Research/History_African_American_Migration_Pattern/US_MLP_datasets/1900_from_1880_1900.csv')\n"
     ]
    },
    {
     "data": {
      "text/html": [
       "<div>\n",
       "<style scoped>\n",
       "    .dataframe tbody tr th:only-of-type {\n",
       "        vertical-align: middle;\n",
       "    }\n",
       "\n",
       "    .dataframe tbody tr th {\n",
       "        vertical-align: top;\n",
       "    }\n",
       "\n",
       "    .dataframe thead th {\n",
       "        text-align: right;\n",
       "    }\n",
       "</style>\n",
       "<table border=\"1\" class=\"dataframe\">\n",
       "  <thead>\n",
       "    <tr style=\"text-align: right;\">\n",
       "      <th></th>\n",
       "      <th>Unnamed: 0.1</th>\n",
       "      <th>Unnamed: 0</th>\n",
       "      <th>rectype</th>\n",
       "      <th>year</th>\n",
       "      <th>sample</th>\n",
       "      <th>serial</th>\n",
       "      <th>numprec</th>\n",
       "      <th>subsamp</th>\n",
       "      <th>hhwtreg</th>\n",
       "      <th>region</th>\n",
       "      <th>...</th>\n",
       "      <th>us1900m_1077</th>\n",
       "      <th>us1900m_1078</th>\n",
       "      <th>us1900m_1079</th>\n",
       "      <th>us1900m_1080</th>\n",
       "      <th>us1900m_1081</th>\n",
       "      <th>us1900m_1082</th>\n",
       "      <th>us1900m_1083</th>\n",
       "      <th>us1900m_1084</th>\n",
       "      <th>us1900m_1085</th>\n",
       "      <th>us1900m_1086</th>\n",
       "    </tr>\n",
       "  </thead>\n",
       "  <tbody>\n",
       "    <tr>\n",
       "      <th>0</th>\n",
       "      <td>18</td>\n",
       "      <td>19</td>\n",
       "      <td>H</td>\n",
       "      <td>1900</td>\n",
       "      <td>1900 100% database</td>\n",
       "      <td>110663</td>\n",
       "      <td>6</td>\n",
       "      <td>57</td>\n",
       "      <td>1</td>\n",
       "      <td>East South Central Division</td>\n",
       "      <td>...</td>\n",
       "      <td>245.0</td>\n",
       "      <td>79581119</td>\n",
       "      <td>960</td>\n",
       "      <td>JONAS S</td>\n",
       "      <td>JONAS S</td>\n",
       "      <td>MOTEN</td>\n",
       "      <td>MOTEN</td>\n",
       "      <td>NaN</td>\n",
       "      <td>H</td>\n",
       "      <td>R</td>\n",
       "    </tr>\n",
       "    <tr>\n",
       "      <th>1</th>\n",
       "      <td>22</td>\n",
       "      <td>23</td>\n",
       "      <td>H</td>\n",
       "      <td>1900</td>\n",
       "      <td>1900 100% database</td>\n",
       "      <td>140747</td>\n",
       "      <td>3</td>\n",
       "      <td>41</td>\n",
       "      <td>1</td>\n",
       "      <td>East South Central Division</td>\n",
       "      <td>...</td>\n",
       "      <td>239.0</td>\n",
       "      <td>79725685</td>\n",
       "      <td>1020</td>\n",
       "      <td>BOB</td>\n",
       "      <td>BOB</td>\n",
       "      <td>BROWN</td>\n",
       "      <td>BROWN</td>\n",
       "      <td>NaN</td>\n",
       "      <td>F</td>\n",
       "      <td>R</td>\n",
       "    </tr>\n",
       "    <tr>\n",
       "      <th>2</th>\n",
       "      <td>28</td>\n",
       "      <td>29</td>\n",
       "      <td>H</td>\n",
       "      <td>1900</td>\n",
       "      <td>1900 100% database</td>\n",
       "      <td>223762</td>\n",
       "      <td>12</td>\n",
       "      <td>4</td>\n",
       "      <td>1</td>\n",
       "      <td>East South Central Division</td>\n",
       "      <td>...</td>\n",
       "      <td>202.0</td>\n",
       "      <td>734255</td>\n",
       "      <td>2090</td>\n",
       "      <td>NED</td>\n",
       "      <td>NED</td>\n",
       "      <td>BARGANIER</td>\n",
       "      <td>BARGANIER</td>\n",
       "      <td>NaN</td>\n",
       "      <td>F</td>\n",
       "      <td>R</td>\n",
       "    </tr>\n",
       "    <tr>\n",
       "      <th>3</th>\n",
       "      <td>29</td>\n",
       "      <td>30</td>\n",
       "      <td>H</td>\n",
       "      <td>1900</td>\n",
       "      <td>1900 100% database</td>\n",
       "      <td>223972</td>\n",
       "      <td>6</td>\n",
       "      <td>61</td>\n",
       "      <td>1</td>\n",
       "      <td>East South Central Division</td>\n",
       "      <td>...</td>\n",
       "      <td>78.0</td>\n",
       "      <td>735340</td>\n",
       "      <td>980</td>\n",
       "      <td>LOVE</td>\n",
       "      <td>LOVE</td>\n",
       "      <td>MEANS</td>\n",
       "      <td>MEANS</td>\n",
       "      <td>F</td>\n",
       "      <td>F</td>\n",
       "      <td>O</td>\n",
       "    </tr>\n",
       "    <tr>\n",
       "      <th>4</th>\n",
       "      <td>31</td>\n",
       "      <td>32</td>\n",
       "      <td>H</td>\n",
       "      <td>1900</td>\n",
       "      <td>1900 100% database</td>\n",
       "      <td>236354</td>\n",
       "      <td>29</td>\n",
       "      <td>65</td>\n",
       "      <td>1</td>\n",
       "      <td>East South Central Division</td>\n",
       "      <td>...</td>\n",
       "      <td>166.0</td>\n",
       "      <td>34605996</td>\n",
       "      <td>1930</td>\n",
       "      <td>JOHN W</td>\n",
       "      <td>JOHN W</td>\n",
       "      <td>CONNALLY</td>\n",
       "      <td>CONNALLY</td>\n",
       "      <td>NaN</td>\n",
       "      <td>NaN</td>\n",
       "      <td>NaN</td>\n",
       "    </tr>\n",
       "  </tbody>\n",
       "</table>\n",
       "<p>5 rows × 301 columns</p>\n",
       "</div>"
      ],
      "text/plain": [
       "   Unnamed: 0.1  Unnamed: 0 rectype  year              sample  serial  \\\n",
       "0            18          19       H  1900  1900 100% database  110663   \n",
       "1            22          23       H  1900  1900 100% database  140747   \n",
       "2            28          29       H  1900  1900 100% database  223762   \n",
       "3            29          30       H  1900  1900 100% database  223972   \n",
       "4            31          32       H  1900  1900 100% database  236354   \n",
       "\n",
       "   numprec subsamp  hhwtreg                       region  ... us1900m_1077  \\\n",
       "0        6      57        1  East South Central Division  ...        245.0   \n",
       "1        3      41        1  East South Central Division  ...        239.0   \n",
       "2       12       4        1  East South Central Division  ...        202.0   \n",
       "3        6      61        1  East South Central Division  ...         78.0   \n",
       "4       29      65        1  East South Central Division  ...        166.0   \n",
       "\n",
       "  us1900m_1078 us1900m_1079 us1900m_1080 us1900m_1081 us1900m_1082  \\\n",
       "0     79581119          960      JONAS S      JONAS S        MOTEN   \n",
       "1     79725685         1020          BOB          BOB        BROWN   \n",
       "2       734255         2090          NED          NED    BARGANIER   \n",
       "3       735340          980         LOVE         LOVE        MEANS   \n",
       "4     34605996         1930       JOHN W       JOHN W     CONNALLY   \n",
       "\n",
       "  us1900m_1083  us1900m_1084 us1900m_1085 us1900m_1086  \n",
       "0        MOTEN           NaN            H            R  \n",
       "1        BROWN           NaN            F            R  \n",
       "2    BARGANIER           NaN            F            R  \n",
       "3        MEANS             F            F            O  \n",
       "4     CONNALLY           NaN          NaN          NaN  \n",
       "\n",
       "[5 rows x 301 columns]"
      ]
     },
     "execution_count": 4,
     "metadata": {},
     "output_type": "execute_result"
    }
   ],
   "source": [
    "\n",
    "df_1900 = pd.read_csv('C:/Columbia_University/Research/History_African_American_Migration_Pattern/US_MLP_datasets/1900_from_1880_1900.csv')\n",
    "df_1900.head()"
   ]
  },
  {
   "cell_type": "code",
   "execution_count": 5,
   "metadata": {},
   "outputs": [
    {
     "data": {
      "text/plain": [
       "(2121, 301)"
      ]
     },
     "execution_count": 5,
     "metadata": {},
     "output_type": "execute_result"
    }
   ],
   "source": [
    "df_1900.shape"
   ]
  },
  {
   "cell_type": "code",
   "execution_count": 8,
   "metadata": {},
   "outputs": [
    {
     "data": {
      "text/plain": [
       "(2248, 396)"
      ]
     },
     "execution_count": 8,
     "metadata": {},
     "output_type": "execute_result"
    }
   ],
   "source": [
    "df_1880.shape"
   ]
  },
  {
   "cell_type": "markdown",
   "metadata": {},
   "source": [
    "Columns to keep: year, serial, stateicp, city, famsize, eldch, yngch, age, sex, race, bpl, occ1950, namelast, namefrst, bplstr, histid, pid. "
   ]
  },
  {
   "cell_type": "code",
   "execution_count": 6,
   "metadata": {},
   "outputs": [],
   "source": [
    "sub_1880 = df_1880.loc[:, ['year', 'serial', 'stateicp', 'us1880e_0071', 'countynhg', 'yrstcounty', 'stcounty', 'countyicp', 'famsize', 'eldch', 'yngch', 'age', 'sex', 'race', 'bpl', 'occ1950', 'namelast', 'namefrst', 'bplstr', 'histid', 'us1880e_0108']]\n",
    "\n",
    "sub_1900 = df_1900.loc[:, ['year', 'serial', 'stateicp', 'us1900m_0045', 'stcounty', 'countyicp', 'famsize', 'eldch', 'yngch', 'age', 'sex', 'race', 'bpl', 'occ1950', 'namelast', 'namefrst', 'bplstr', 'histid', 'imageid']]\n"
   ]
  },
  {
   "cell_type": "code",
   "execution_count": 7,
   "metadata": {},
   "outputs": [
    {
     "name": "stdout",
     "output_type": "stream",
     "text": [
      "(2248, 21)\n",
      "(2121, 19)\n"
     ]
    }
   ],
   "source": [
    "print(sub_1880.shape)\n",
    "print(sub_1900.shape)"
   ]
  },
  {
   "cell_type": "code",
   "execution_count": 15,
   "metadata": {},
   "outputs": [],
   "source": [
    "sub_1880.rename(columns = {'us1880e_0071': 'city', 'us1880e_0108': 'pid'}, inplace = True)\n",
    "\n",
    "sub_1900.rename(columns = {'us1900m_0045': 'city', 'imageid': 'pid'}, inplace = True)"
   ]
  },
  {
   "cell_type": "code",
   "execution_count": 29,
   "metadata": {},
   "outputs": [
    {
     "data": {
      "text/plain": [
       "(4369, 17)"
      ]
     },
     "execution_count": 29,
     "metadata": {},
     "output_type": "execute_result"
    }
   ],
   "source": [
    "new_sub = pd.merge(sub_1880, \n",
    "                   sub_1900, \n",
    "                   on = ['year', 'serial', 'stateicp', 'city', 'famsize', 'eldch', 'yngch', 'age', 'sex', 'race', 'bpl', 'occ1950', 'namelast', 'namefrst', 'bplstr', 'histid', 'pid'], \n",
    "                   how = 'outer'\n",
    "                   )\n",
    "new_sub.shape"
   ]
  },
  {
   "cell_type": "code",
   "execution_count": 30,
   "metadata": {},
   "outputs": [
    {
     "data": {
      "text/plain": [
       "Index(['year', 'serial', 'stateicp', 'city', 'famsize', 'eldch', 'yngch',\n",
       "       'age', 'sex', 'race', 'bpl', 'occ1950', 'namelast', 'namefrst',\n",
       "       'bplstr', 'histid', 'pid'],\n",
       "      dtype='object')"
      ]
     },
     "execution_count": 30,
     "metadata": {},
     "output_type": "execute_result"
    }
   ],
   "source": [
    "new_sub.columns"
   ]
  },
  {
   "cell_type": "code",
   "execution_count": 31,
   "metadata": {},
   "outputs": [
    {
     "data": {
      "text/html": [
       "<div>\n",
       "<style scoped>\n",
       "    .dataframe tbody tr th:only-of-type {\n",
       "        vertical-align: middle;\n",
       "    }\n",
       "\n",
       "    .dataframe tbody tr th {\n",
       "        vertical-align: top;\n",
       "    }\n",
       "\n",
       "    .dataframe thead th {\n",
       "        text-align: right;\n",
       "    }\n",
       "</style>\n",
       "<table border=\"1\" class=\"dataframe\">\n",
       "  <thead>\n",
       "    <tr style=\"text-align: right;\">\n",
       "      <th></th>\n",
       "      <th>year</th>\n",
       "      <th>serial</th>\n",
       "      <th>stateicp</th>\n",
       "      <th>city</th>\n",
       "      <th>famsize</th>\n",
       "      <th>eldch</th>\n",
       "      <th>yngch</th>\n",
       "      <th>age</th>\n",
       "      <th>sex</th>\n",
       "      <th>race</th>\n",
       "      <th>bpl</th>\n",
       "      <th>occ1950</th>\n",
       "      <th>namelast</th>\n",
       "      <th>namefrst</th>\n",
       "      <th>bplstr</th>\n",
       "      <th>histid</th>\n",
       "      <th>pid</th>\n",
       "    </tr>\n",
       "  </thead>\n",
       "  <tbody>\n",
       "    <tr>\n",
       "      <th>0</th>\n",
       "      <td>1880</td>\n",
       "      <td>383439</td>\n",
       "      <td>Arkansas</td>\n",
       "      <td>BIG ROCK</td>\n",
       "      <td>6 family members present</td>\n",
       "      <td>15</td>\n",
       "      <td>3</td>\n",
       "      <td>36</td>\n",
       "      <td>Male</td>\n",
       "      <td>Mulatto</td>\n",
       "      <td>Canada</td>\n",
       "      <td>Carpenters</td>\n",
       "      <td>WALLACE</td>\n",
       "      <td>HENRY</td>\n",
       "      <td>CANADA</td>\n",
       "      <td>d61c52ce-9753-4559-9235-b54ebdc44547</td>\n",
       "      <td>01254054-2-0264-0806-$</td>\n",
       "    </tr>\n",
       "    <tr>\n",
       "      <th>1</th>\n",
       "      <td>1880</td>\n",
       "      <td>426308</td>\n",
       "      <td>California</td>\n",
       "      <td>OAKLAND</td>\n",
       "      <td>8 family members present</td>\n",
       "      <td>9</td>\n",
       "      <td>2</td>\n",
       "      <td>40</td>\n",
       "      <td>Male</td>\n",
       "      <td>Mulatto</td>\n",
       "      <td>Missouri</td>\n",
       "      <td>Painters, construction and maintenance</td>\n",
       "      <td>KYER</td>\n",
       "      <td>CHARLES J.</td>\n",
       "      <td>MO</td>\n",
       "      <td>161e51f4-f31f-4a8a-9a54-5f1627acefef</td>\n",
       "      <td>01254061-1-0136-1756-$</td>\n",
       "    </tr>\n",
       "    <tr>\n",
       "      <th>2</th>\n",
       "      <td>1880</td>\n",
       "      <td>475226</td>\n",
       "      <td>California</td>\n",
       "      <td>SAN RAFAEL</td>\n",
       "      <td>3 family members present</td>\n",
       "      <td>NaN</td>\n",
       "      <td>NaN</td>\n",
       "      <td>43</td>\n",
       "      <td>Male</td>\n",
       "      <td>Black/African American/Negro</td>\n",
       "      <td>Canada</td>\n",
       "      <td>Taxicab drivers and chauffers</td>\n",
       "      <td>BROM</td>\n",
       "      <td>DANIEL</td>\n",
       "      <td>CAN</td>\n",
       "      <td>b3f9906c-e396-4435-90c0-72e9c1f43177</td>\n",
       "      <td>01254068-1-0080-0959-$</td>\n",
       "    </tr>\n",
       "    <tr>\n",
       "      <th>3</th>\n",
       "      <td>1880</td>\n",
       "      <td>475252</td>\n",
       "      <td>California</td>\n",
       "      <td>SAN RAFAEL</td>\n",
       "      <td>7 family members present</td>\n",
       "      <td>14</td>\n",
       "      <td>1</td>\n",
       "      <td>40</td>\n",
       "      <td>Male</td>\n",
       "      <td>Black/African American/Negro</td>\n",
       "      <td>Canada</td>\n",
       "      <td>Farm laborers, wage workers</td>\n",
       "      <td>TALBOT</td>\n",
       "      <td>ARTHUR</td>\n",
       "      <td>CAN</td>\n",
       "      <td>7ee3ec94-fb88-4978-b7d5-8150e0163f0a</td>\n",
       "      <td>01254068-1-0081-1092-$</td>\n",
       "    </tr>\n",
       "    <tr>\n",
       "      <th>4</th>\n",
       "      <td>1880</td>\n",
       "      <td>519735</td>\n",
       "      <td>California</td>\n",
       "      <td>SAN FRANCISCO</td>\n",
       "      <td>4 family members present</td>\n",
       "      <td>18</td>\n",
       "      <td>18</td>\n",
       "      <td>43</td>\n",
       "      <td>Female</td>\n",
       "      <td>White</td>\n",
       "      <td>Argentina</td>\n",
       "      <td>Keeps house/housekeeping at home/housewife</td>\n",
       "      <td>BAYLEY</td>\n",
       "      <td>EMILE P.</td>\n",
       "      <td>BUENOS AYRES</td>\n",
       "      <td>7899c3f7-c939-4cfe-9734-39e3951469c5</td>\n",
       "      <td>01254073-1-0246-4060-$</td>\n",
       "    </tr>\n",
       "  </tbody>\n",
       "</table>\n",
       "</div>"
      ],
      "text/plain": [
       "   year  serial    stateicp           city                   famsize eldch  \\\n",
       "0  1880  383439    Arkansas       BIG ROCK  6 family members present    15   \n",
       "1  1880  426308  California        OAKLAND  8 family members present     9   \n",
       "2  1880  475226  California     SAN RAFAEL  3 family members present   NaN   \n",
       "3  1880  475252  California     SAN RAFAEL  7 family members present    14   \n",
       "4  1880  519735  California  SAN FRANCISCO  4 family members present    18   \n",
       "\n",
       "  yngch age     sex                          race        bpl  \\\n",
       "0     3  36    Male                       Mulatto     Canada   \n",
       "1     2  40    Male                       Mulatto   Missouri   \n",
       "2   NaN  43    Male  Black/African American/Negro     Canada   \n",
       "3     1  40    Male  Black/African American/Negro     Canada   \n",
       "4    18  43  Female                         White  Argentina   \n",
       "\n",
       "                                      occ1950 namelast    namefrst  \\\n",
       "0                                  Carpenters  WALLACE       HENRY   \n",
       "1      Painters, construction and maintenance     KYER  CHARLES J.   \n",
       "2               Taxicab drivers and chauffers     BROM      DANIEL   \n",
       "3                 Farm laborers, wage workers   TALBOT      ARTHUR   \n",
       "4  Keeps house/housekeeping at home/housewife   BAYLEY    EMILE P.   \n",
       "\n",
       "         bplstr                                histid                     pid  \n",
       "0        CANADA  d61c52ce-9753-4559-9235-b54ebdc44547  01254054-2-0264-0806-$  \n",
       "1            MO  161e51f4-f31f-4a8a-9a54-5f1627acefef  01254061-1-0136-1756-$  \n",
       "2           CAN  b3f9906c-e396-4435-90c0-72e9c1f43177  01254068-1-0080-0959-$  \n",
       "3           CAN  7ee3ec94-fb88-4978-b7d5-8150e0163f0a  01254068-1-0081-1092-$  \n",
       "4  BUENOS AYRES  7899c3f7-c939-4cfe-9734-39e3951469c5  01254073-1-0246-4060-$  "
      ]
     },
     "execution_count": 31,
     "metadata": {},
     "output_type": "execute_result"
    }
   ],
   "source": [
    "new_sub.head(5)"
   ]
  },
  {
   "cell_type": "markdown",
   "metadata": {},
   "source": [
    "#### Multiple columns about city, so which one to extract?\n",
    "city, us1850c_0043, us1850c_0053 etc."
   ]
  },
  {
   "cell_type": "code",
   "execution_count": 37,
   "metadata": {},
   "outputs": [
    {
     "data": {
      "text/plain": [
       "(4369, 17)"
      ]
     },
     "execution_count": 37,
     "metadata": {},
     "output_type": "execute_result"
    }
   ],
   "source": [
    "new_sub.shape\n"
   ]
  },
  {
   "cell_type": "code",
   "execution_count": 38,
   "metadata": {},
   "outputs": [],
   "source": [
    "new_sub.to_csv('C:/Columbia_University/Research/History_African_American_Migration_Pattern/US_MLP_datasets/1880_1900.csv', index = False)"
   ]
  },
  {
   "cell_type": "code",
   "execution_count": 40,
   "metadata": {},
   "outputs": [
    {
     "data": {
      "text/plain": [
       "(4369, 17)"
      ]
     },
     "execution_count": 40,
     "metadata": {},
     "output_type": "execute_result"
    }
   ],
   "source": [
    "pd.read_csv('C:/Columbia_University/Research/History_African_American_Migration_Pattern/US_MLP_datasets/1880_1900.csv').shape"
   ]
  },
  {
   "cell_type": "code",
   "execution_count": 17,
   "metadata": {},
   "outputs": [],
   "source": [
    "sub_1880.to_csv('C:/Columbia_University/Research/History_African_American_Migration_Pattern/US_MLP_datasets/1880.csv', index = False)"
   ]
  },
  {
   "cell_type": "code",
   "execution_count": 19,
   "metadata": {},
   "outputs": [],
   "source": [
    "sub_1900.to_csv('C:/Columbia_University/Research/History_African_American_Migration_Pattern/US_MLP_datasets/1900.csv', index = False)"
   ]
  },
  {
   "cell_type": "code",
   "execution_count": null,
   "metadata": {},
   "outputs": [],
   "source": []
  }
 ],
 "metadata": {
  "kernelspec": {
   "display_name": "Python 3",
   "language": "python",
   "name": "python3"
  },
  "language_info": {
   "codemirror_mode": {
    "name": "ipython",
    "version": 3
   },
   "file_extension": ".py",
   "mimetype": "text/x-python",
   "name": "python",
   "nbconvert_exporter": "python",
   "pygments_lexer": "ipython3",
   "version": "3.11.8"
  }
 },
 "nbformat": 4,
 "nbformat_minor": 2
}
